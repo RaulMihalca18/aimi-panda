{
 "cells": [
  {
   "cell_type": "markdown",
   "metadata": {},
   "source": [
    "# Description\n",
    "This kernel performs inference for [PANDA concat tile pooling starter](https://www.kaggle.com/iafoss/panda-concat-fast-ai-starter) kernel with use of multiple models and 8 fold TTA. Check it for more training details. The image preprocessing pipline is provided [here](https://www.kaggle.com/iafoss/panda-16x128x128-tiles)."
   ]
  },
  {
   "cell_type": "code",
   "execution_count": 1,
   "metadata": {
    "_cell_guid": "b1076dfc-b9ad-4769-8c92-a6c4dae69d19",
    "_kg_hide-input": true,
    "_kg_hide-output": true,
    "_uuid": "8f2839f25d086af736a60e9eeb907d3b93b6e0e5",
    "execution": {
     "iopub.execute_input": "2024-05-18T08:47:17.818152Z",
     "iopub.status.busy": "2024-05-18T08:47:17.817878Z",
     "iopub.status.idle": "2024-05-18T08:47:22.074570Z",
     "shell.execute_reply": "2024-05-18T08:47:22.073903Z",
     "shell.execute_reply.started": "2024-05-18T08:47:17.818124Z"
    }
   },
   "outputs": [],
   "source": [
    "import cv2\n",
    "from tqdm import tqdm_notebook as tqdm\n",
    "import fastai\n",
    "from fastai.vision import *\n",
    "import os\n",
    "from mish_activation import *\n",
    "import warnings\n",
    "warnings.filterwarnings(\"ignore\")\n",
    "import skimage.io\n",
    "import numpy as np\n",
    "import pandas as pd\n",
    "sys.path.insert(0, '../input/semisupervised-imagenet-models/semi-supervised-ImageNet1K-models-master/')\n",
    "from hubconf import *"
   ]
  },
  {
   "cell_type": "code",
   "execution_count": 2,
   "metadata": {
    "execution": {
     "iopub.execute_input": "2024-05-18T08:47:22.076494Z",
     "iopub.status.busy": "2024-05-18T08:47:22.076251Z",
     "iopub.status.idle": "2024-05-18T08:47:22.081992Z",
     "shell.execute_reply": "2024-05-18T08:47:22.080934Z",
     "shell.execute_reply.started": "2024-05-18T08:47:22.076468Z"
    }
   },
   "outputs": [],
   "source": [
    "DATA = '../input/prostate-cancer-grade-assessment/test_images'\n",
    "TEST = '../input/prostate-cancer-grade-assessment/test.csv'\n",
    "SAMPLE = '../input/prostate-cancer-grade-assessment/sample_submission.csv'\n",
    "MODELS = ['/kaggle/input/panda-concat-tile-pooling-clean-change/RNXT50_0.pth','/kaggle/input/panda-concat-tile-pooling-clean-change/RNXT50_1.pth', '/kaggle/input/panda-concat-tile-pooling-clean-change/RNXT50_2.pth', '/kaggle/input/panda-concat-tile-pooling-clean-change/RNXT50_3.pth', '/kaggle/input/panda-concat-tile-pooling-clean-change/RNXT50_4.pth']\n",
    "\n",
    "sz = 128\n",
    "bs = 2\n",
    "N = 12\n",
    "nworkers = 2"
   ]
  },
  {
   "cell_type": "markdown",
   "metadata": {},
   "source": [
    "# Model"
   ]
  },
  {
   "cell_type": "code",
   "execution_count": 3,
   "metadata": {
    "execution": {
     "iopub.execute_input": "2024-05-18T08:47:22.083514Z",
     "iopub.status.busy": "2024-05-18T08:47:22.083214Z",
     "iopub.status.idle": "2024-05-18T08:47:22.097936Z",
     "shell.execute_reply": "2024-05-18T08:47:22.097226Z",
     "shell.execute_reply.started": "2024-05-18T08:47:22.083469Z"
    }
   },
   "outputs": [],
   "source": [
    "def _resnext(url, block, layers, pretrained, progress, **kwargs):\n",
    "    model = ResNet(block, layers, **kwargs)\n",
    "    #state_dict = load_state_dict_from_url(url, progress=progress)\n",
    "    #model.load_state_dict(state_dict)\n",
    "    return model\n",
    "\n",
    "class Model(nn.Module):\n",
    "    def __init__(self, arch='resnext50_32x4d', n=6, pre=True):\n",
    "        super().__init__()\n",
    "        #m = torch.hub.load('facebookresearch/semi-supervised-ImageNet1K-models', arch)\n",
    "        m = _resnext(semi_supervised_model_urls[arch], Bottleneck, [3, 4, 6, 3], False, \n",
    "                progress=False,groups=32,width_per_group=4)\n",
    "        self.enc = nn.Sequential(*list(m.children())[:-2])       \n",
    "        nc = list(m.children())[-1].in_features\n",
    "        self.head = nn.Sequential(AdaptiveConcatPool2d(),Flatten(),nn.Linear(2*nc,512),\n",
    "                Mish(),nn.BatchNorm1d(512),nn.Dropout(0.5),nn.Linear(512,n))\n",
    "        \n",
    "    def forward(self, x):\n",
    "        shape = x.shape\n",
    "        n = shape[1]\n",
    "        x = x.view(-1,shape[2],shape[3],shape[4])\n",
    "        x = self.enc(x)\n",
    "        shape = x.shape\n",
    "        x = x.view(-1,n,shape[1],shape[2],shape[3]).permute(0,2,1,3,4).contiguous()\\\n",
    "          .view(-1,shape[1],shape[2]*n,shape[3])\n",
    "        x = self.head(x)\n",
    "        return x"
   ]
  },
  {
   "cell_type": "code",
   "execution_count": 4,
   "metadata": {
    "execution": {
     "iopub.execute_input": "2024-05-18T08:47:22.099193Z",
     "iopub.status.busy": "2024-05-18T08:47:22.098983Z"
    }
   },
   "outputs": [],
   "source": [
    "models = []\n",
    "for path in MODELS:\n",
    "    state_dict = torch.load(path,map_location=torch.device('cpu'))\n",
    "    model = Model()\n",
    "    model.load_state_dict(state_dict)\n",
    "    model.float()\n",
    "    model.eval()\n",
    "    model.cuda()\n",
    "    models.append(model)\n",
    "\n",
    "del state_dict"
   ]
  },
  {
   "cell_type": "markdown",
   "metadata": {},
   "source": [
    "# Data"
   ]
  },
  {
   "cell_type": "code",
   "execution_count": 5,
   "metadata": {},
   "outputs": [],
   "source": [
    "def tile(img):\n",
    "    shape = img.shape\n",
    "    pad0,pad1 = (sz - shape[0]%sz)%sz, (sz - shape[1]%sz)%sz\n",
    "    img = np.pad(img,[[pad0//2,pad0-pad0//2],[pad1//2,pad1-pad1//2],[0,0]],\n",
    "                 constant_values=255)\n",
    "    img = img.reshape(img.shape[0]//sz,sz,img.shape[1]//sz,sz,3)\n",
    "    img = img.transpose(0,2,1,3,4).reshape(-1,sz,sz,3)\n",
    "    if len(img) < N:\n",
    "        img = np.pad(img,[[0,N-len(img)],[0,0],[0,0],[0,0]],constant_values=255)\n",
    "    idxs = np.argsort(img.reshape(img.shape[0],-1).sum(-1))[:N]\n",
    "    img = img[idxs]\n",
    "    return img\n",
    "\n",
    "mean = torch.tensor([1.0-0.90949707, 1.0-0.8188697, 1.0-0.87795304])\n",
    "std = torch.tensor([0.36357649, 0.49984502, 0.40477625])\n",
    "\n",
    "class PandaDataset(Dataset):\n",
    "    def __init__(self, path, test):\n",
    "        self.path = path\n",
    "        self.names = list(pd.read_csv(test).image_id)\n",
    "\n",
    "    def __len__(self):\n",
    "        return len(self.names)\n",
    "\n",
    "    def __getitem__(self, idx):\n",
    "        name = self.names[idx]\n",
    "        img = skimage.io.MultiImage(os.path.join(DATA,name+'.tiff'))[-1]\n",
    "        tiles = torch.Tensor(1.0 - tile(img)/255.0)\n",
    "        tiles = (tiles - mean)/std\n",
    "        return tiles.permute(0,3,1,2), name"
   ]
  },
  {
   "cell_type": "markdown",
   "metadata": {},
   "source": [
    "# Prediction"
   ]
  },
  {
   "cell_type": "code",
   "execution_count": 6,
   "metadata": {},
   "outputs": [],
   "source": [
    "sub_df = pd.read_csv(SAMPLE)\n",
    "if os.path.exists(DATA):\n",
    "    ds = PandaDataset(DATA,TEST)\n",
    "    dl = DataLoader(ds, batch_size=bs, num_workers=nworkers, shuffle=False)\n",
    "    names,preds = [],[]\n",
    "\n",
    "    with torch.no_grad():\n",
    "        for x,y in tqdm(dl):\n",
    "            x = x.cuda()\n",
    "            #dihedral TTA\n",
    "            x = torch.stack([x,x.flip(-1),x.flip(-2),x.flip(-1,-2),\n",
    "              x.transpose(-1,-2),x.transpose(-1,-2).flip(-1),\n",
    "              x.transpose(-1,-2).flip(-2),x.transpose(-1,-2).flip(-1,-2)],1)\n",
    "            x = x.view(-1,N,3,sz,sz)\n",
    "            p = [model(x) for model in models]\n",
    "            p = torch.stack(p,1)\n",
    "            p = p.view(bs,8*len(models),-1).mean(1).argmax(-1).cpu()\n",
    "            names.append(y)\n",
    "            preds.append(p)\n",
    "    \n",
    "    names = np.concatenate(names)\n",
    "    preds = torch.cat(preds).numpy()\n",
    "    sub_df = pd.DataFrame({'image_id': names, 'isup_grade': preds})\n",
    "    sub_df.to_csv('submission.csv', index=False)\n",
    "    sub_df.head()"
   ]
  },
  {
   "cell_type": "code",
   "execution_count": 7,
   "metadata": {
    "_cell_guid": "79c7e3d0-c299-4dcb-8224-4455121ee9b0",
    "_uuid": "d629ff2d2480ee46fbb7e2d37f6b5fab8052498a"
   },
   "outputs": [
    {
     "data": {
      "text/html": [
       "<div>\n",
       "<style scoped>\n",
       "    .dataframe tbody tr th:only-of-type {\n",
       "        vertical-align: middle;\n",
       "    }\n",
       "\n",
       "    .dataframe tbody tr th {\n",
       "        vertical-align: top;\n",
       "    }\n",
       "\n",
       "    .dataframe thead th {\n",
       "        text-align: right;\n",
       "    }\n",
       "</style>\n",
       "<table border=\"1\" class=\"dataframe\">\n",
       "  <thead>\n",
       "    <tr style=\"text-align: right;\">\n",
       "      <th></th>\n",
       "      <th>image_id</th>\n",
       "      <th>isup_grade</th>\n",
       "    </tr>\n",
       "  </thead>\n",
       "  <tbody>\n",
       "    <tr>\n",
       "      <th>0</th>\n",
       "      <td>005700be7e06878e6605e7a5a39de1b2</td>\n",
       "      <td>0</td>\n",
       "    </tr>\n",
       "    <tr>\n",
       "      <th>1</th>\n",
       "      <td>005c6e8877caf724c600fdce5d417d40</td>\n",
       "      <td>0</td>\n",
       "    </tr>\n",
       "    <tr>\n",
       "      <th>2</th>\n",
       "      <td>0104f76634ff89bfff1ef0804a95c380</td>\n",
       "      <td>0</td>\n",
       "    </tr>\n",
       "  </tbody>\n",
       "</table>\n",
       "</div>"
      ],
      "text/plain": [
       "                           image_id  isup_grade\n",
       "0  005700be7e06878e6605e7a5a39de1b2           0\n",
       "1  005c6e8877caf724c600fdce5d417d40           0\n",
       "2  0104f76634ff89bfff1ef0804a95c380           0"
      ]
     },
     "execution_count": 7,
     "metadata": {},
     "output_type": "execute_result"
    }
   ],
   "source": [
    "sub_df.to_csv(\"submission.csv\", index=False)\n",
    "sub_df.head()"
   ]
  },
  {
   "cell_type": "code",
   "execution_count": null,
   "metadata": {},
   "outputs": [],
   "source": []
  }
 ],
 "metadata": {
  "kaggle": {
   "accelerator": "gpu",
   "dataSources": [
    {
     "databundleVersionId": 1126921,
     "sourceId": 18647,
     "sourceType": "competition"
    },
    {
     "datasetId": 458222,
     "sourceId": 863262,
     "sourceType": "datasetVersion"
    },
    {
     "datasetId": 625794,
     "sourceId": 1115430,
     "sourceType": "datasetVersion"
    },
    {
     "datasetId": 5000994,
     "sourceId": 8404381,
     "sourceType": "datasetVersion"
    },
    {
     "datasetId": 5001003,
     "sourceId": 8404401,
     "sourceType": "datasetVersion"
    },
    {
     "datasetId": 5031412,
     "sourceId": 8444159,
     "sourceType": "datasetVersion"
    },
    {
     "sourceId": 22581004,
     "sourceType": "kernelVersion"
    },
    {
     "sourceId": 178225622,
     "sourceType": "kernelVersion"
    },
    {
     "sourceId": 178277262,
     "sourceType": "kernelVersion"
    }
   ],
   "dockerImageVersionId": 29869,
   "isGpuEnabled": true,
   "isInternetEnabled": false,
   "language": "python",
   "sourceType": "notebook"
  },
  "kernelspec": {
   "display_name": "Python 3",
   "language": "python",
   "name": "python3"
  },
  "language_info": {
   "codemirror_mode": {
    "name": "ipython",
    "version": 3
   },
   "file_extension": ".py",
   "mimetype": "text/x-python",
   "name": "python",
   "nbconvert_exporter": "python",
   "pygments_lexer": "ipython3",
   "version": "3.6.6"
  }
 },
 "nbformat": 4,
 "nbformat_minor": 4
}
