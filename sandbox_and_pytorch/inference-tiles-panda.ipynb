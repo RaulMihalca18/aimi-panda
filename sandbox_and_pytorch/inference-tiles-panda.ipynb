{
 "cells": [
  {
   "cell_type": "markdown",
   "id": "338ee1c0",
   "metadata": {
    "papermill": {
     "duration": 0.005547,
     "end_time": "2024-05-17T15:10:34.354142",
     "exception": false,
     "start_time": "2024-05-17T15:10:34.348595",
     "status": "completed"
    },
    "tags": []
   },
   "source": [
    "# Description\n",
    "This kernel performs inference for [PANDA concat tile pooling starter](https://www.kaggle.com/iafoss/panda-concat-fast-ai-starter) kernel with use of multiple models and 8 fold TTA. Check it for more training details. The image preprocessing pipline is provided [here](https://www.kaggle.com/iafoss/panda-16x128x128-tiles)."
   ]
  },
  {
   "cell_type": "code",
   "execution_count": 1,
   "id": "dcb8adf1",
   "metadata": {
    "execution": {
     "iopub.execute_input": "2024-05-17T15:10:34.365874Z",
     "iopub.status.busy": "2024-05-17T15:10:34.365528Z",
     "iopub.status.idle": "2024-05-17T15:10:45.854421Z",
     "shell.execute_reply": "2024-05-17T15:10:45.853392Z"
    },
    "papermill": {
     "duration": 11.497805,
     "end_time": "2024-05-17T15:10:45.856912",
     "exception": false,
     "start_time": "2024-05-17T15:10:34.359107",
     "status": "completed"
    },
    "tags": []
   },
   "outputs": [],
   "source": [
    "import cv2\n",
    "from tqdm import tqdm\n",
    "import torch\n",
    "import torch.nn as nn\n",
    "import os\n",
    "import warnings\n",
    "import skimage.io\n",
    "import numpy as np\n",
    "import pandas as pd\n",
    "from torch.utils.data import Dataset, DataLoader\n",
    "from torchvision.models.resnet import ResNet, Bottleneck\n",
    "import torchvision.transforms as transforms\n",
    "import sys\n",
    "sys.path.insert(0, '../input/semisupervised-imagenet-models/semi-supervised-ImageNet1K-models-master/')\n",
    "from hubconf import *\n",
    "\n",
    "warnings.filterwarnings(\"ignore\")\n",
    "\n",
    "DATA = '../input/prostate-cancer-grade-assessment/test_images'\n",
    "TEST = '../input/prostate-cancer-grade-assessment/test.csv'\n",
    "SAMPLE = '../input/prostate-cancer-grade-assessment/sample_submission.csv'\n",
    "MODELS = ['/kaggle/input/train-tiles-panda/RNXT50_0.pth', '/kaggle/input/train-tiles-panda/RNXT50_1.pth']\n",
    "\n",
    "sz = 128\n",
    "bs = 2\n",
    "N = 12\n",
    "nworkers = 2\n",
    "\n",
    "# Define _resnext function based on the initial specification\n",
    "def _resnext(url, block, layers, pretrained, progress, **kwargs):\n",
    "    model = ResNet(block, layers, **kwargs)\n",
    "    if pretrained:\n",
    "        state_dict = torch.load(url)\n",
    "        model.load_state_dict(state_dict)\n",
    "    return model\n",
    "\n",
    "class Model(nn.Module):\n",
    "    def __init__(self, arch='resnext101_32x4d', n=6):\n",
    "        super().__init__()\n",
    "        semi_supervised_model_urls = {\n",
    "            'resnext101_32x4d': '/kaggle/input/semisupervised-imagenet-models/semi_supervised_resnext101_32x4d.pth'\n",
    "        }\n",
    "        m = _resnext(semi_supervised_model_urls[arch], Bottleneck, [3, 4, 6, 3], False, \n",
    "                     progress=False, groups=32, width_per_group=4)\n",
    "        self.enc = nn.Sequential(*list(m.children())[:-2])\n",
    "        nc = list(m.children())[-1].in_features\n",
    "        self.head = nn.Sequential(\n",
    "            nn.AdaptiveAvgPool2d((1, 1)),\n",
    "            nn.Flatten(),\n",
    "            nn.Linear(nc, 512),\n",
    "            nn.ReLU(),\n",
    "            nn.BatchNorm1d(512),\n",
    "            nn.Dropout(0.5),\n",
    "            nn.Linear(512, n)\n",
    "        )\n",
    "        \n",
    "    def forward(self, x):\n",
    "        bs, n, c, h, w = x.size()\n",
    "        x = x.view(-1, c, h, w)  # (bs*N, c, h, w)\n",
    "        x = self.enc(x)  # (bs*N, nc, h', w')\n",
    "        x = x.view(bs, n, x.size(1), x.size(2), x.size(3)).mean(1)  # (bs, nc, h', w')\n",
    "        x = self.head(x)  # (bs, n)\n",
    "        return x\n",
    "\n",
    "models = []\n",
    "\n",
    "for path in MODELS:\n",
    "    model = Model()\n",
    "    model.load_state_dict(torch.load(path))\n",
    "    model.float()\n",
    "    model.eval()\n",
    "    model.cuda()\n",
    "    models.append(model)\n",
    "\n",
    "def tile(img):\n",
    "    shape = img.shape\n",
    "    pad0, pad1 = (sz - shape[0] % sz) % sz, (sz - shape[1] % sz) % sz\n",
    "    img = np.pad(img, [[pad0 // 2, pad0 - pad0 // 2], [pad1 // 2, pad1 - pad1 // 2], [0, 0]], constant_values=255)\n",
    "    img = img.reshape(img.shape[0] // sz, sz, img.shape[1] // sz, sz, 3)\n",
    "    img = img.transpose(0, 2, 1, 3, 4).reshape(-1, sz, sz, 3)\n",
    "    if len(img) < N:\n",
    "        img = np.pad(img, [[0, N - len(img)], [0, 0], [0, 0], [0, 0]], constant_values=255)\n",
    "    idxs = np.argsort(img.reshape(img.shape[0], -1).sum(-1))[:N]\n",
    "    img = img[idxs]\n",
    "    return img\n",
    "\n",
    "mean = torch.tensor([1.0 - 0.90949707, 1.0 - 0.8188697, 1.0 - 0.87795304])\n",
    "std = torch.tensor([0.36357649, 0.49984502, 0.40477625])\n",
    "\n",
    "class PandaDataset(Dataset):\n",
    "    def __init__(self, path, test):\n",
    "        self.path = path\n",
    "        self.names = list(pd.read_csv(test).image_id)\n",
    "\n",
    "    def __len__(self):\n",
    "        return len(self.names)\n",
    "\n",
    "    def __getitem__(self, idx):\n",
    "        name = self.names[idx]\n",
    "        img = skimage.io.MultiImage(os.path.join(DATA, name + '.tiff'))[-1]\n",
    "        tiles = torch.Tensor(1.0 - tile(img) / 255.0)\n",
    "        tiles = (tiles - mean) / std\n",
    "        return tiles.permute(0, 3, 1, 2), name\n",
    "\n",
    "sub_df = pd.read_csv(SAMPLE)\n",
    "if os.path.exists(DATA):\n",
    "    ds = PandaDataset(DATA, TEST)\n",
    "    dl = DataLoader(ds, batch_size=bs, num_workers=nworkers, shuffle=False)\n",
    "    names, preds = [], []\n",
    "\n",
    "    with torch.no_grad():\n",
    "        for x, y in tqdm(dl):\n",
    "            x = x.cuda()\n",
    "            # dihedral TTA\n",
    "            x = torch.stack([x, x.flip(-1), x.flip(-2), x.flip(-1, -2),\n",
    "                             x.transpose(-1, -2), x.transpose(-1, -2).flip(-1),\n",
    "                             x.transpose(-1, -2).flip(-2), x.transpose(-1, -2).flip(-1, -2)], 1)\n",
    "            x = x.view(-1, N, 3, sz, sz)\n",
    "            p = [model(x) for model in models]\n",
    "            p = torch.stack(p, 1)\n",
    "            p = p.view(bs, 8 * len(models), -1).mean(1).argmax(-1).cpu()\n",
    "            names.append(y)\n",
    "            preds.append(p)\n",
    "\n",
    "    names = np.concatenate(names)\n",
    "    preds = torch.cat(preds).numpy()\n",
    "    sub_df = pd.DataFrame({'image_id': names, 'isup_grade': preds})\n",
    "    sub_df.to_csv('submission.csv', index=False)\n",
    "    sub_df.head()\n",
    "    \n",
    "else:\n",
    "    \n",
    "    sub_df.to_csv('submission.csv', index=False)"
   ]
  },
  {
   "cell_type": "code",
   "execution_count": 2,
   "id": "30c25446",
   "metadata": {
    "execution": {
     "iopub.execute_input": "2024-05-17T15:10:45.868678Z",
     "iopub.status.busy": "2024-05-17T15:10:45.868065Z",
     "iopub.status.idle": "2024-05-17T15:10:45.885209Z",
     "shell.execute_reply": "2024-05-17T15:10:45.884206Z"
    },
    "papermill": {
     "duration": 0.025296,
     "end_time": "2024-05-17T15:10:45.887308",
     "exception": false,
     "start_time": "2024-05-17T15:10:45.862012",
     "status": "completed"
    },
    "tags": []
   },
   "outputs": [
    {
     "data": {
      "text/html": [
       "<div>\n",
       "<style scoped>\n",
       "    .dataframe tbody tr th:only-of-type {\n",
       "        vertical-align: middle;\n",
       "    }\n",
       "\n",
       "    .dataframe tbody tr th {\n",
       "        vertical-align: top;\n",
       "    }\n",
       "\n",
       "    .dataframe thead th {\n",
       "        text-align: right;\n",
       "    }\n",
       "</style>\n",
       "<table border=\"1\" class=\"dataframe\">\n",
       "  <thead>\n",
       "    <tr style=\"text-align: right;\">\n",
       "      <th></th>\n",
       "      <th>image_id</th>\n",
       "      <th>isup_grade</th>\n",
       "    </tr>\n",
       "  </thead>\n",
       "  <tbody>\n",
       "    <tr>\n",
       "      <th>0</th>\n",
       "      <td>005700be7e06878e6605e7a5a39de1b2</td>\n",
       "      <td>0</td>\n",
       "    </tr>\n",
       "    <tr>\n",
       "      <th>1</th>\n",
       "      <td>005c6e8877caf724c600fdce5d417d40</td>\n",
       "      <td>0</td>\n",
       "    </tr>\n",
       "    <tr>\n",
       "      <th>2</th>\n",
       "      <td>0104f76634ff89bfff1ef0804a95c380</td>\n",
       "      <td>0</td>\n",
       "    </tr>\n",
       "  </tbody>\n",
       "</table>\n",
       "</div>"
      ],
      "text/plain": [
       "                           image_id  isup_grade\n",
       "0  005700be7e06878e6605e7a5a39de1b2           0\n",
       "1  005c6e8877caf724c600fdce5d417d40           0\n",
       "2  0104f76634ff89bfff1ef0804a95c380           0"
      ]
     },
     "execution_count": 2,
     "metadata": {},
     "output_type": "execute_result"
    }
   ],
   "source": [
    "sub_df"
   ]
  },
  {
   "cell_type": "markdown",
   "id": "20d80ff1",
   "metadata": {
    "papermill": {
     "duration": 0.005283,
     "end_time": "2024-05-17T15:10:45.898370",
     "exception": false,
     "start_time": "2024-05-17T15:10:45.893087",
     "status": "completed"
    },
    "tags": []
   },
   "source": [
    "# OLD CODE"
   ]
  },
  {
   "cell_type": "code",
   "execution_count": 3,
   "id": "b2ccec61",
   "metadata": {
    "_cell_guid": "b1076dfc-b9ad-4769-8c92-a6c4dae69d19",
    "_kg_hide-input": true,
    "_kg_hide-output": true,
    "_uuid": "8f2839f25d086af736a60e9eeb907d3b93b6e0e5",
    "execution": {
     "iopub.execute_input": "2024-05-17T15:10:45.909536Z",
     "iopub.status.busy": "2024-05-17T15:10:45.909250Z",
     "iopub.status.idle": "2024-05-17T15:10:45.913231Z",
     "shell.execute_reply": "2024-05-17T15:10:45.912363Z"
    },
    "papermill": {
     "duration": 0.011939,
     "end_time": "2024-05-17T15:10:45.915142",
     "exception": false,
     "start_time": "2024-05-17T15:10:45.903203",
     "status": "completed"
    },
    "tags": []
   },
   "outputs": [],
   "source": [
    "# import cv2\n",
    "# from tqdm import tqdm_notebook as tqdm\n",
    "# import fastai\n",
    "# from fastai.vision import *\n",
    "# import os\n",
    "# from mish_activation import *\n",
    "# import warnings\n",
    "# warnings.filterwarnings(\"ignore\")\n",
    "# import skimage.io\n",
    "# import numpy as np\n",
    "# import pandas as pd\n",
    "# sys.path.insert(0, '../input/semisupervised-imagenet-models/semi-supervised-ImageNet1K-models-master/')\n",
    "# from hubconf import *"
   ]
  },
  {
   "cell_type": "code",
   "execution_count": 4,
   "id": "06424ac5",
   "metadata": {
    "execution": {
     "iopub.execute_input": "2024-05-17T15:10:45.926279Z",
     "iopub.status.busy": "2024-05-17T15:10:45.925998Z",
     "iopub.status.idle": "2024-05-17T15:10:45.929853Z",
     "shell.execute_reply": "2024-05-17T15:10:45.928912Z"
    },
    "papermill": {
     "duration": 0.011559,
     "end_time": "2024-05-17T15:10:45.931711",
     "exception": false,
     "start_time": "2024-05-17T15:10:45.920152",
     "status": "completed"
    },
    "tags": []
   },
   "outputs": [],
   "source": [
    "# DATA = '../input/prostate-cancer-grade-assessment/test_images'\n",
    "# TEST = '../input/prostate-cancer-grade-assessment/test.csv'\n",
    "# SAMPLE = '../input/prostate-cancer-grade-assessment/sample_submission.csv'\n",
    "# MODELS = ['/kaggle/input/rnxt101sslv2/RNXT101ssl_0.pth', '/kaggle/input/rnxt101sslv2/RNXT101ssl1.pth']\n",
    "\n",
    "# sz = 128\n",
    "# bs = 2\n",
    "# N = 12\n",
    "# nworkers = 2"
   ]
  },
  {
   "cell_type": "markdown",
   "id": "7cbbcb30",
   "metadata": {
    "papermill": {
     "duration": 0.005981,
     "end_time": "2024-05-17T15:10:45.942842",
     "exception": false,
     "start_time": "2024-05-17T15:10:45.936861",
     "status": "completed"
    },
    "tags": []
   },
   "source": [
    "# Model"
   ]
  },
  {
   "cell_type": "code",
   "execution_count": 5,
   "id": "0243c39f",
   "metadata": {
    "execution": {
     "iopub.execute_input": "2024-05-17T15:10:45.954571Z",
     "iopub.status.busy": "2024-05-17T15:10:45.953853Z",
     "iopub.status.idle": "2024-05-17T15:10:45.958557Z",
     "shell.execute_reply": "2024-05-17T15:10:45.957675Z"
    },
    "papermill": {
     "duration": 0.012524,
     "end_time": "2024-05-17T15:10:45.960447",
     "exception": false,
     "start_time": "2024-05-17T15:10:45.947923",
     "status": "completed"
    },
    "tags": []
   },
   "outputs": [],
   "source": [
    "# class Model(nn.Module):\n",
    "#     def __init__(self, arch='resnext101_32x4d', n=6, pre=True):\n",
    "#         super().__init__()\n",
    "#         m = _resnext(semi_supervised_model_urls[arch], Bottleneck, [3, 4, 6, 3], False, \n",
    "#                 progress=False, groups=32, width_per_group=4)\n",
    "#         self.enc = nn.Sequential(*list(m.children())[:-2])       \n",
    "#         nc = list(m.children())[-1].in_features\n",
    "#         self.head = nn.Sequential(nn.AdaptiveAvgPool2d((1, 1)), nn.Flatten(),\n",
    "#                                   nn.Linear(nc, 512), nn.ReLU(), nn.BatchNorm1d(512),\n",
    "#                                   nn.Dropout(0.5), nn.Linear(512, n))\n",
    "        \n",
    "#     def forward(self, x):\n",
    "#         shape = x.shape\n",
    "#         n = shape[1]\n",
    "#         x = x.view(-1, shape[2], shape[3], shape[4])\n",
    "#         x = self.enc(x)\n",
    "#         shape = x.shape\n",
    "#         x = x.view(-1, n, shape[1], shape[2], shape[3]).permute(0, 2, 1, 3, 4).contiguous() \\\n",
    "#             .view(-1, shape[1], shape[2] * n, shape[3])\n",
    "#         x = self.head(x)\n",
    "#         return x\n",
    "\n"
   ]
  },
  {
   "cell_type": "code",
   "execution_count": 6,
   "id": "ce0945e0",
   "metadata": {
    "execution": {
     "iopub.execute_input": "2024-05-17T15:10:45.971776Z",
     "iopub.status.busy": "2024-05-17T15:10:45.971487Z",
     "iopub.status.idle": "2024-05-17T15:10:45.975368Z",
     "shell.execute_reply": "2024-05-17T15:10:45.974500Z"
    },
    "papermill": {
     "duration": 0.011609,
     "end_time": "2024-05-17T15:10:45.977239",
     "exception": false,
     "start_time": "2024-05-17T15:10:45.965630",
     "status": "completed"
    },
    "tags": []
   },
   "outputs": [],
   "source": [
    "# models = []\n",
    "\n",
    "# for path in MODELS:\n",
    "#     model = torch.load(path)\n",
    "#     model.float()\n",
    "#     model.eval()\n",
    "#     model.cuda()\n",
    "#     models.append(model)"
   ]
  },
  {
   "cell_type": "markdown",
   "id": "4fa20748",
   "metadata": {
    "papermill": {
     "duration": 0.004783,
     "end_time": "2024-05-17T15:10:45.986975",
     "exception": false,
     "start_time": "2024-05-17T15:10:45.982192",
     "status": "completed"
    },
    "tags": []
   },
   "source": [
    "# Data"
   ]
  },
  {
   "cell_type": "code",
   "execution_count": 7,
   "id": "3373be11",
   "metadata": {
    "execution": {
     "iopub.execute_input": "2024-05-17T15:10:45.998216Z",
     "iopub.status.busy": "2024-05-17T15:10:45.997944Z",
     "iopub.status.idle": "2024-05-17T15:10:46.002470Z",
     "shell.execute_reply": "2024-05-17T15:10:46.001644Z"
    },
    "papermill": {
     "duration": 0.012471,
     "end_time": "2024-05-17T15:10:46.004422",
     "exception": false,
     "start_time": "2024-05-17T15:10:45.991951",
     "status": "completed"
    },
    "tags": []
   },
   "outputs": [],
   "source": [
    "# def tile(img):\n",
    "#     shape = img.shape\n",
    "#     pad0,pad1 = (sz - shape[0]%sz)%sz, (sz - shape[1]%sz)%sz\n",
    "#     img = np.pad(img,[[pad0//2,pad0-pad0//2],[pad1//2,pad1-pad1//2],[0,0]],\n",
    "#                  constant_values=255)\n",
    "#     img = img.reshape(img.shape[0]//sz,sz,img.shape[1]//sz,sz,3)\n",
    "#     img = img.transpose(0,2,1,3,4).reshape(-1,sz,sz,3)\n",
    "#     if len(img) < N:\n",
    "#         img = np.pad(img,[[0,N-len(img)],[0,0],[0,0],[0,0]],constant_values=255)\n",
    "#     idxs = np.argsort(img.reshape(img.shape[0],-1).sum(-1))[:N]\n",
    "#     img = img[idxs]\n",
    "#     return img\n",
    "\n",
    "# mean = torch.tensor([1.0-0.90949707, 1.0-0.8188697, 1.0-0.87795304])\n",
    "# std = torch.tensor([0.36357649, 0.49984502, 0.40477625])\n",
    "\n",
    "# class PandaDataset(Dataset):\n",
    "#     def __init__(self, path, test):\n",
    "#         self.path = path\n",
    "#         self.names = list(pd.read_csv(test).image_id)\n",
    "\n",
    "#     def __len__(self):\n",
    "#         return len(self.names)\n",
    "\n",
    "#     def __getitem__(self, idx):\n",
    "#         name = self.names[idx]\n",
    "#         img = skimage.io.MultiImage(os.path.join(DATA,name+'.tiff'))[-1]\n",
    "#         tiles = torch.Tensor(1.0 - tile(img)/255.0)\n",
    "#         tiles = (tiles - mean)/std\n",
    "#         return tiles.permute(0,3,1,2), name"
   ]
  },
  {
   "cell_type": "markdown",
   "id": "7a5416b1",
   "metadata": {
    "papermill": {
     "duration": 0.004729,
     "end_time": "2024-05-17T15:10:46.014167",
     "exception": false,
     "start_time": "2024-05-17T15:10:46.009438",
     "status": "completed"
    },
    "tags": []
   },
   "source": [
    "# Prediction"
   ]
  },
  {
   "cell_type": "code",
   "execution_count": 8,
   "id": "4a8e987a",
   "metadata": {
    "execution": {
     "iopub.execute_input": "2024-05-17T15:10:46.025230Z",
     "iopub.status.busy": "2024-05-17T15:10:46.024970Z",
     "iopub.status.idle": "2024-05-17T15:10:46.029358Z",
     "shell.execute_reply": "2024-05-17T15:10:46.028562Z"
    },
    "papermill": {
     "duration": 0.012163,
     "end_time": "2024-05-17T15:10:46.031265",
     "exception": false,
     "start_time": "2024-05-17T15:10:46.019102",
     "status": "completed"
    },
    "tags": []
   },
   "outputs": [],
   "source": [
    "# sub_df = pd.read_csv(SAMPLE)\n",
    "# if os.path.exists(DATA):\n",
    "#     ds = PandaDataset(DATA,TEST)\n",
    "#     dl = DataLoader(ds, batch_size=bs, num_workers=nworkers, shuffle=False)\n",
    "#     names,preds = [],[]\n",
    "\n",
    "#     with torch.no_grad():\n",
    "#         for x,y in tqdm(dl):\n",
    "#             x = x.cuda()\n",
    "#             #dihedral TTA\n",
    "#             x = torch.stack([x,x.flip(-1),x.flip(-2),x.flip(-1,-2),\n",
    "#               x.transpose(-1,-2),x.transpose(-1,-2).flip(-1),\n",
    "#               x.transpose(-1,-2).flip(-2),x.transpose(-1,-2).flip(-1,-2)],1)\n",
    "#             x = x.view(-1,N,3,sz,sz)\n",
    "#             p = [model(x) for model in models]\n",
    "#             p = torch.stack(p,1)\n",
    "#             p = p.view(bs,8*len(models),-1).mean(1).argmax(-1).cpu()\n",
    "#             names.append(y)\n",
    "#             preds.append(p)\n",
    "    \n",
    "#     names = np.concatenate(names)\n",
    "#     preds = torch.cat(preds).numpy()\n",
    "#     sub_df = pd.DataFrame({'image_id': names, 'isup_grade': preds})\n",
    "#     sub_df.to_csv('submission.csv', index=False)\n",
    "#     sub_df.head()"
   ]
  },
  {
   "cell_type": "code",
   "execution_count": 9,
   "id": "56d44557",
   "metadata": {
    "_cell_guid": "79c7e3d0-c299-4dcb-8224-4455121ee9b0",
    "_uuid": "d629ff2d2480ee46fbb7e2d37f6b5fab8052498a",
    "execution": {
     "iopub.execute_input": "2024-05-17T15:10:46.042723Z",
     "iopub.status.busy": "2024-05-17T15:10:46.042487Z",
     "iopub.status.idle": "2024-05-17T15:10:46.045961Z",
     "shell.execute_reply": "2024-05-17T15:10:46.045103Z"
    },
    "papermill": {
     "duration": 0.011349,
     "end_time": "2024-05-17T15:10:46.047858",
     "exception": false,
     "start_time": "2024-05-17T15:10:46.036509",
     "status": "completed"
    },
    "tags": []
   },
   "outputs": [],
   "source": [
    "# sub_df.to_csv(\"submission.csv\", index=False)\n",
    "# sub_df.head()"
   ]
  },
  {
   "cell_type": "code",
   "execution_count": null,
   "id": "4f5d1ee7",
   "metadata": {
    "papermill": {
     "duration": 0.004712,
     "end_time": "2024-05-17T15:10:46.057542",
     "exception": false,
     "start_time": "2024-05-17T15:10:46.052830",
     "status": "completed"
    },
    "tags": []
   },
   "outputs": [],
   "source": []
  },
  {
   "cell_type": "code",
   "execution_count": null,
   "id": "1283ad17",
   "metadata": {
    "papermill": {
     "duration": 0.005525,
     "end_time": "2024-05-17T15:10:46.067951",
     "exception": false,
     "start_time": "2024-05-17T15:10:46.062426",
     "status": "completed"
    },
    "tags": []
   },
   "outputs": [],
   "source": []
  }
 ],
 "metadata": {
  "kaggle": {
   "accelerator": "gpu",
   "dataSources": [
    {
     "databundleVersionId": 1126921,
     "sourceId": 18647,
     "sourceType": "competition"
    },
    {
     "datasetId": 458222,
     "sourceId": 863262,
     "sourceType": "datasetVersion"
    },
    {
     "datasetId": 625794,
     "sourceId": 1115430,
     "sourceType": "datasetVersion"
    },
    {
     "datasetId": 5000994,
     "sourceId": 8404381,
     "sourceType": "datasetVersion"
    },
    {
     "datasetId": 5001003,
     "sourceId": 8404401,
     "sourceType": "datasetVersion"
    },
    {
     "sourceId": 22581004,
     "sourceType": "kernelVersion"
    },
    {
     "sourceId": 178225622,
     "sourceType": "kernelVersion"
    }
   ],
   "isGpuEnabled": true,
   "isInternetEnabled": false,
   "language": "python",
   "sourceType": "notebook"
  },
  "kernelspec": {
   "display_name": "Python 3",
   "language": "python",
   "name": "python3"
  },
  "language_info": {
   "codemirror_mode": {
    "name": "ipython",
    "version": 3
   },
   "file_extension": ".py",
   "mimetype": "text/x-python",
   "name": "python",
   "nbconvert_exporter": "python",
   "pygments_lexer": "ipython3",
   "version": "3.10.13"
  },
  "papermill": {
   "default_parameters": {},
   "duration": 16.124471,
   "end_time": "2024-05-17T15:10:47.696162",
   "environment_variables": {},
   "exception": null,
   "input_path": "__notebook__.ipynb",
   "output_path": "__notebook__.ipynb",
   "parameters": {},
   "start_time": "2024-05-17T15:10:31.571691",
   "version": "2.5.0"
  }
 },
 "nbformat": 4,
 "nbformat_minor": 5
}
